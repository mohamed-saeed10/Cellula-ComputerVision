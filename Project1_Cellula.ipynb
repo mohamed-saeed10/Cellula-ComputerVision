{
  "nbformat": 4,
  "nbformat_minor": 0,
  "metadata": {
    "colab": {
      "provenance": [],
      "authorship_tag": "ABX9TyPVaBJQtkveqF26GEPInTlG",
      "include_colab_link": true
    },
    "kernelspec": {
      "name": "python3",
      "display_name": "Python 3"
    },
    "language_info": {
      "name": "python"
    }
  },
  "cells": [
    {
      "cell_type": "markdown",
      "metadata": {
        "id": "view-in-github",
        "colab_type": "text"
      },
      "source": [
        "<a href=\"https://colab.research.google.com/github/mohamed-saeed10/Cellula-ComputerVision/blob/FirstProject/Project1_Cellula.ipynb\" target=\"_parent\"><img src=\"https://colab.research.google.com/assets/colab-badge.svg\" alt=\"Open In Colab\"/></a>"
      ]
    },
    {
      "cell_type": "code",
      "source": [],
      "metadata": {
        "id": "y4a9tJdWN1xu"
      },
      "execution_count": null,
      "outputs": []
    },
    {
      "cell_type": "code",
      "execution_count": null,
      "metadata": {
        "colab": {
          "base_uri": "https://localhost:8080/"
        },
        "id": "hlkgMM7iO7ZN",
        "outputId": "e94caf9d-7189-45cd-8bbb-68a55758b5cb"
      },
      "outputs": [
        {
          "output_type": "stream",
          "name": "stdout",
          "text": [
            "Found 0 images belonging to 0 classes.\n",
            "Found 0 images belonging to 0 classes.\n",
            "Found 0 images belonging to 0 classes.\n",
            "Warning: Training generator is empty. Check your data directory.\n",
            "Warning: Validation generator is empty. Check your data directory.\n",
            "Training data shape: (0,) (0,)\n",
            "Validation data shape: (0,) (0,)\n"
          ]
        }
      ],
      "source": [
        "import tensorflow as tf\n",
        "from tensorflow.keras import layers, models\n",
        "from tensorflow.keras.preprocessing.image import ImageDataGenerator\n",
        "import matplotlib.pyplot as plt\n",
        "import numpy as np  # Import numpy for array manipulation\n",
        "\n",
        "# 1. Preprocessing\n",
        "# Define paths to your dataset directories\n",
        "train_dir = '/content/Training'\n",
        "validation_dir = '/content/Validation'\n",
        "test_dir = '/content/Testing'\n",
        "\n",
        "# Set up data generators for training, validation, and testing\n",
        "train_datagen = ImageDataGenerator(rescale=1./255,  # Normalize the images\n",
        "                                   rotation_range=40,  # Apply data augmentation\n",
        "                                   width_shift_range=0.2,\n",
        "                                   height_shift_range=0.2,\n",
        "                                   shear_range=0.2,\n",
        "                                   zoom_range=0.2,\n",
        "                                   horizontal_flip=True)\n",
        "\n",
        "validation_datagen = ImageDataGenerator(rescale=1./255)\n",
        "test_datagen = ImageDataGenerator(rescale=1./255)\n",
        "\n",
        "# Load images from the directories\n",
        "train_generator = train_datagen.flow_from_directory(train_dir,\n",
        "                                                    target_size=(150, 150),  # Resize images\n",
        "                                                    batch_size=32,\n",
        "                                                    class_mode='sparse')\n",
        "\n",
        "validation_generator = validation_datagen.flow_from_directory(validation_dir,\n",
        "                                                              target_size=(150, 150),\n",
        "                                                              batch_size=32,\n",
        "                                                              class_mode='sparse')\n",
        "\n",
        "test_generator = test_datagen.flow_from_directory(test_dir,\n",
        "                                                  target_size=(150, 150),\n",
        "                                                  batch_size=32,\n",
        "                                                  class_mode='sparse')\n",
        "\n",
        "# Instead of calling next() just once, iterate to get a full batch\n",
        "x_train_batches, y_train_batches = [], []\n",
        "# Check if the generator is empty before iterating\n",
        "if len(train_generator) > 0:\n",
        "    for _ in range(len(train_generator)):  # Iterate over all batches in the generator\n",
        "        x_batch, y_batch = next(train_generator)\n",
        "        x_train_batches.append(x_batch)\n",
        "        y_train_batches.append(y_batch)\n",
        "\n",
        "    x_train = np.concatenate(x_train_batches, axis=0)  # Concatenate batches into a single array\n",
        "    y_train = np.concatenate(y_train_batches, axis=0)\n",
        "else:\n",
        "    print(\"Warning: Training generator is empty. Check your data directory.\")\n",
        "    x_train, y_train = np.array([]), np.array([])  # Initialize as empty arrays\n",
        "\n",
        "# Similarly for validation data\n",
        "x_val_batches, y_val_batches = [], []\n",
        "if len(validation_generator) > 0:\n",
        "    for _ in range(len(validation_generator)):\n",
        "        x_batch, y_batch = next(validation_generator)\n",
        "        x_val_batches.append(x_batch)\n",
        "        y_val_batches.append(y_batch)\n",
        "\n",
        "    x_val = np.concatenate(x_val_batches, axis=0)\n",
        "    y_val = np.concatenate(y_val_batches, axis=0)\n",
        "else:\n",
        "    print(\"Warning: Validation generator is empty. Check your data directory.\")\n",
        "    x_val, y_val = np.array([]), np.array([])\n",
        "\n",
        "print(\"Training data shape:\", x_train.shape, y_train.shape)\n",
        "print(\"Validation data shape:\", x_val.shape, y_val.shape)\n",
        "\n",
        "\n",
        "# 2. Visualization\n",
        "\n",
        "# Display a few augmented images\n",
        "sample_training_images, _ = next(train_generator)\n",
        "\n",
        "def plotImages(images_arr):\n",
        "    fig, axes = plt.subplots(1, 5, figsize=(20, 20))\n",
        "    axes = axes.flatten()\n",
        "    for img, ax in zip(images_arr, axes):\n",
        "        ax.imshow"
      ]
    }
  ]
}